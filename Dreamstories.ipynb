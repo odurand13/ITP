{
 "cells": [
  {
   "cell_type": "markdown",
   "id": "3942a966",
   "metadata": {},
   "source": [
    "### Final project for Reading and Writing Electronic Text Spring 22"
   ]
  },
  {
   "cell_type": "code",
   "execution_count": 1,
   "id": "51bf9a2f",
   "metadata": {
    "scrolled": true
   },
   "outputs": [
    {
     "name": "stdout",
     "output_type": "stream",
     "text": [
      "Collecting package metadata (current_repodata.json): done\n",
      "Solving environment: done\n",
      "\n",
      "# All requested packages already installed.\n",
      "\n"
     ]
    }
   ],
   "source": [
    "import sys\n",
    "!conda install --prefix {sys.prefix} -y -c pytorch pytorch"
   ]
  },
  {
   "cell_type": "code",
   "execution_count": 2,
   "id": "bdbc4813",
   "metadata": {},
   "outputs": [
    {
     "name": "stdout",
     "output_type": "stream",
     "text": [
      "Requirement already satisfied: transformers in /opt/anaconda3/lib/python3.9/site-packages (4.17.0)\n",
      "Requirement already satisfied: huggingface-hub<1.0,>=0.1.0 in /opt/anaconda3/lib/python3.9/site-packages (from transformers) (0.4.0)\n",
      "Requirement already satisfied: requests in /opt/anaconda3/lib/python3.9/site-packages (from transformers) (2.26.0)\n",
      "Requirement already satisfied: pyyaml>=5.1 in /opt/anaconda3/lib/python3.9/site-packages (from transformers) (6.0)\n",
      "Requirement already satisfied: regex!=2019.12.17 in /opt/anaconda3/lib/python3.9/site-packages (from transformers) (2021.8.3)\n",
      "Requirement already satisfied: sacremoses in /opt/anaconda3/lib/python3.9/site-packages (from transformers) (0.0.49)\n",
      "Requirement already satisfied: filelock in /opt/anaconda3/lib/python3.9/site-packages (from transformers) (3.3.1)\n",
      "Requirement already satisfied: numpy>=1.17 in /opt/anaconda3/lib/python3.9/site-packages (from transformers) (1.20.3)\n",
      "Requirement already satisfied: tqdm>=4.27 in /opt/anaconda3/lib/python3.9/site-packages (from transformers) (4.62.3)\n",
      "Requirement already satisfied: tokenizers!=0.11.3,>=0.11.1 in /opt/anaconda3/lib/python3.9/site-packages (from transformers) (0.11.6)\n",
      "Requirement already satisfied: packaging>=20.0 in /opt/anaconda3/lib/python3.9/site-packages (from transformers) (21.0)\n",
      "Requirement already satisfied: typing-extensions>=3.7.4.3 in /opt/anaconda3/lib/python3.9/site-packages (from huggingface-hub<1.0,>=0.1.0->transformers) (3.10.0.2)\n",
      "Requirement already satisfied: pyparsing>=2.0.2 in /opt/anaconda3/lib/python3.9/site-packages (from packaging>=20.0->transformers) (3.0.4)\n",
      "Requirement already satisfied: urllib3<1.27,>=1.21.1 in /opt/anaconda3/lib/python3.9/site-packages (from requests->transformers) (1.26.7)\n",
      "Requirement already satisfied: charset-normalizer~=2.0.0 in /opt/anaconda3/lib/python3.9/site-packages (from requests->transformers) (2.0.4)\n",
      "Requirement already satisfied: certifi>=2017.4.17 in /opt/anaconda3/lib/python3.9/site-packages (from requests->transformers) (2021.10.8)\n",
      "Requirement already satisfied: idna<4,>=2.5 in /opt/anaconda3/lib/python3.9/site-packages (from requests->transformers) (3.2)\n",
      "Requirement already satisfied: click in /opt/anaconda3/lib/python3.9/site-packages (from sacremoses->transformers) (8.0.3)\n",
      "Requirement already satisfied: six in /opt/anaconda3/lib/python3.9/site-packages (from sacremoses->transformers) (1.16.0)\n",
      "Requirement already satisfied: joblib in /opt/anaconda3/lib/python3.9/site-packages (from sacremoses->transformers) (1.1.0)\n"
     ]
    }
   ],
   "source": [
    "import sys\n",
    "!{sys.executable} -m pip install transformers"
   ]
  },
  {
   "cell_type": "code",
   "execution_count": 3,
   "id": "344e5b4b",
   "metadata": {},
   "outputs": [],
   "source": [
    "from transformers import pipeline, AutoModelForCausalLM, AutoTokenizer"
   ]
  },
  {
   "cell_type": "code",
   "execution_count": 4,
   "id": "edbf8485",
   "metadata": {},
   "outputs": [],
   "source": [
    "tokenizer = AutoTokenizer.from_pretrained('gpt2-large')\n",
    "model = AutoModelForCausalLM.from_pretrained('gpt2-large')"
   ]
  },
  {
   "cell_type": "code",
   "execution_count": 5,
   "id": "1e2ff48e",
   "metadata": {},
   "outputs": [],
   "source": [
    "vocab = tokenizer.get_vocab()"
   ]
  },
  {
   "cell_type": "code",
   "execution_count": 6,
   "id": "c7cfa4c0",
   "metadata": {},
   "outputs": [
    {
     "data": {
      "text/plain": [
       "50257"
      ]
     },
     "execution_count": 6,
     "metadata": {},
     "output_type": "execute_result"
    }
   ],
   "source": [
    "len(vocab)"
   ]
  },
  {
   "cell_type": "code",
   "execution_count": 7,
   "id": "32139a0f",
   "metadata": {},
   "outputs": [],
   "source": [
    "generator = pipeline('text-generation', model=model, tokenizer=tokenizer)"
   ]
  },
  {
   "cell_type": "markdown",
   "id": "fc31669b",
   "metadata": {},
   "source": [
    "### Let's make a test with a single prompt"
   ]
  },
  {
   "cell_type": "code",
   "execution_count": 28,
   "id": "8987e051",
   "metadata": {},
   "outputs": [],
   "source": [
    "prompt = \"Al and I were in a car on the city outskirts. It was a warm, sunny and clear day. I am not sure which city this was, but it was somewhere tropical. There were plants everywhere, and I could see weeds and grass growing out of sidewalk cracks. Despite being cute and quaint, I felt unsafe in this neighborhood\""
   ]
  },
  {
   "cell_type": "code",
   "execution_count": 29,
   "id": "003700fe",
   "metadata": {},
   "outputs": [
    {
     "name": "stderr",
     "output_type": "stream",
     "text": [
      "Setting `pad_token_id` to `eos_token_id`:50256 for open-end generation.\n"
     ]
    },
    {
     "name": "stdout",
     "output_type": "stream",
     "text": [
      "Al and I were in a car on the city outskirts. It was a warm, sunny and clear day. I am not sure which city this was, but it was somewhere tropical. There were plants everywhere, and I could see weeds and grass growing out of sidewalk cracks. Despite being cute and quaint, I felt unsafe in this neighborhood. I was wearing a shirt that had a blue triangle down the sleeve. I had noticed it on another person before, and now I recognized it as a warning sign. I asked why people got scared of a triangle, with all the words in it, like, \"Don't say anything!\" I was just not used to people having to say those things, even with a triangle. I was not really sure what to do about it, it was hard. The car drove through one of the streets. The triangle was growing so fast, and it looked like someone just painted it. There were other signs of danger nearby like that of a dog. There were cars\n"
     ]
    }
   ],
   "source": [
    "print(generator(prompt, max_length=200)[0]['generated_text'])"
   ]
  },
  {
   "cell_type": "markdown",
   "id": "33879401",
   "metadata": {},
   "source": [
    "### Not bad. Let's test different parameters"
   ]
  },
  {
   "cell_type": "code",
   "execution_count": 30,
   "id": "0310253e",
   "metadata": {},
   "outputs": [
    {
     "name": "stderr",
     "output_type": "stream",
     "text": [
      "Setting `pad_token_id` to `eos_token_id`:50256 for open-end generation.\n"
     ]
    },
    {
     "name": "stdout",
     "output_type": "stream",
     "text": [
      "Al and I were in a car on the city outskirts. It was a warm, sunny and clear day. I am not sure which city this was, but it was somewhere tropical. There were plants everywhere, and I could see weeds and grass growing out of sidewalk cracks. Despite being cute and quaint, I felt unsafe in this neighborhood.\n",
      "\n",
      "The car was parked on the side of the street, and I could see the street lights from the side of the street. I could also see the cars that were parked on the other side of the street.\n",
      "\n",
      "I looked at the car, and noticed that it was not in good shape. It was a very old car, and it was dirty. I had no idea what kind of car it was, but it looked like a car that had been abandoned.\n",
      "\n",
      "I walked up to the car, and got out of the car. I walked up to the car, and noticed that it was not in good shape. It was a\n"
     ]
    }
   ],
   "source": [
    "print(generator(prompt, max_length=200, num_beams=2, early_stopping=True)[0]['generated_text'])"
   ]
  },
  {
   "cell_type": "markdown",
   "id": "4a8152f9",
   "metadata": {},
   "source": [
    "### This is interesting. I like the structure of the sentences but I can see repetition. "
   ]
  },
  {
   "cell_type": "code",
   "execution_count": 31,
   "id": "3830bdc3",
   "metadata": {},
   "outputs": [
    {
     "name": "stderr",
     "output_type": "stream",
     "text": [
      "Setting `pad_token_id` to `eos_token_id`:50256 for open-end generation.\n"
     ]
    },
    {
     "name": "stdout",
     "output_type": "stream",
     "text": [
      "Al and I were in a car on the city outskirts. It was a warm, sunny and clear day. I am not sure which city this was, but it was somewhere tropical. There were plants everywhere, and I could see weeds and grass growing out of sidewalk cracks. Despite being cute and quaint, I felt unsafe in this neighborhood. The whole neighborhood felt like a war zone.\n",
      "\n",
      "I was in the middle of the street, walking towards a building. As I approached the building, a group of young men surrounded me. \"Hey!\" one of them yelled. He pointed a gun at me and told me to get down on my hands and knees. They then dragged me into the back seat of their car and drove off. After a few minutes of driving, the car stopped. A man opened the door and asked me if I was okay. When I said yes, he grabbed my arm and pulled me towards him. Then he said, \"If you don't want to do it\n"
     ]
    }
   ],
   "source": [
    "print(generator(prompt, max_length=200, num_beams=2, early_stopping=True, no_repeat_ngram_size=2)[0]['generated_text'])"
   ]
  },
  {
   "cell_type": "markdown",
   "id": "24d07200",
   "metadata": {},
   "source": [
    "### Now I'm going to increase the beam search number to 3."
   ]
  },
  {
   "cell_type": "code",
   "execution_count": 52,
   "id": "8f5b976c",
   "metadata": {},
   "outputs": [
    {
     "name": "stderr",
     "output_type": "stream",
     "text": [
      "Setting `pad_token_id` to `eos_token_id`:50256 for open-end generation.\n"
     ]
    },
    {
     "name": "stdout",
     "output_type": "stream",
     "text": [
      "Al and I were in a car on the city outskirts. It was a warm, sunny and clear day. I am not sure which city this was, but it was somewhere tropical. There were plants everywhere, and I could see weeds and grass growing out of sidewalk cracks. Despite being cute and quaint, I felt unsafe in this neighborhood.\n",
      "\n",
      "I was on my way home from work. The car was in the middle of the street, with the lights on and the windows rolled down. As I was driving, the driver looked at me and said, \"Are you sure you want to do that?\" I said yes. He told me to pull over, which I did. Then he asked me if I wanted to go for a walk. This was the first time I had ever been asked to walk in my life. My heart skipped a beat. When I got to the sidewalk, he said he was going to give me a ride home, so I followed him. We walked a few\n"
     ]
    }
   ],
   "source": [
    "print(generator(prompt, max_length=200, num_beams=3, early_stopping=True, no_repeat_ngram_size=2)[0]['generated_text'])"
   ]
  },
  {
   "cell_type": "markdown",
   "id": "7a428458",
   "metadata": {},
   "source": [
    "### Quite impressive. I will take a look at the top beams and see which one seems the best"
   ]
  },
  {
   "cell_type": "code",
   "execution_count": 35,
   "id": "7d5fe902",
   "metadata": {},
   "outputs": [
    {
     "name": "stderr",
     "output_type": "stream",
     "text": [
      "Setting `pad_token_id` to `eos_token_id`:50256 for open-end generation.\n"
     ]
    },
    {
     "data": {
      "text/plain": [
       "[{'generated_text': 'Al and I were in a car on the city outskirts. It was a warm, sunny and clear day. I am not sure which city this was, but it was somewhere tropical. There were plants everywhere, and I could see weeds and grass growing out of sidewalk cracks. Despite being cute and quaint, I felt unsafe in this neighborhood.\\n\\nI was in the middle of the street, facing the side of a building, when I suddenly felt a pain in my chest. My heart started beating faster and faster, as my heart rate increased. The pain was so intense that it felt like I was about to have a heart attack. As I got closer to the building I saw a man sitting on a bench. He looked to be in his mid-thirties or early forties. His hair was short and he was wearing a grey t-shirt and jeans. In his right hand he held a white plastic bag with a piece of paper taped to it. On the paper was written'},\n",
       " {'generated_text': 'Al and I were in a car on the city outskirts. It was a warm, sunny and clear day. I am not sure which city this was, but it was somewhere tropical. There were plants everywhere, and I could see weeds and grass growing out of sidewalk cracks. Despite being cute and quaint, I felt unsafe in this neighborhood.\\n\\nAfter a few minutes of driving, we came to a stop at a red light. The light turned green and the car started to move forward. As I was about to turn on my blinker, a woman came up behind me. She was short and skinny, wearing a pink t-shirt and shorts. Her hair was tied back into a ponytail and she had a large smile on her face. We started talking and we got to know each other a little bit. After a while, she asked me if I wanted to go for a walk. When I told her I didn\\'t know how to get home, the woman said, \"Come'},\n",
       " {'generated_text': 'Al and I were in a car on the city outskirts. It was a warm, sunny and clear day. I am not sure which city this was, but it was somewhere tropical. There were plants everywhere, and I could see weeds and grass growing out of sidewalk cracks. Despite being cute and quaint, I felt unsafe in this neighborhood.\\n\\nI was about to leave when I saw a woman walking down the street. She looked at me and said, \"You look like you need some help.\" I told her that I had just arrived at the hospital and was in need of some medical help. The woman told me to come to her house, where she would be able to help me out. So I went to the woman\\'s house and she took me in and gave me some medicine and a blanket. When I got back to my car, my heart was racing. This woman was very kind and caring. If I needed help, she was there for me. That night, as I'}]"
      ]
     },
     "execution_count": 35,
     "metadata": {},
     "output_type": "execute_result"
    }
   ],
   "source": [
    "generator(prompt, max_length=200, num_beams=3, early_stopping=True, no_repeat_ngram_size=2, num_return_sequences=3)"
   ]
  },
  {
   "cell_type": "markdown",
   "id": "49db8c1c",
   "metadata": {},
   "source": [
    "### These results do sound like dreams. They have a mysterious feel and also random, just like dreams. Let's experiment with Top-k and Top-p"
   ]
  },
  {
   "cell_type": "code",
   "execution_count": 36,
   "id": "ae813a18",
   "metadata": {},
   "outputs": [
    {
     "name": "stderr",
     "output_type": "stream",
     "text": [
      "Setting `pad_token_id` to `eos_token_id`:50256 for open-end generation.\n"
     ]
    },
    {
     "name": "stdout",
     "output_type": "stream",
     "text": [
      "Al and I were in a car on the city outskirts. It was a warm, sunny and clear day. I am not sure which city this was, but it was somewhere tropical. There were plants everywhere, and I could see weeds and grass growing out of sidewalk cracks. Despite being cute and quaint, I felt unsafe in this neighborhood. I was done with my work and had to get home.\n",
      "\n",
      "We pulled up to the driveway of a house, and it was a nice house. I guess they had taken the steps to renovate it. The front of the house was extremely handsome, with large windows, and a long and leafy front porch. It had a beautiful view, and I felt safe there. We got out of the car and walked into the house.\n",
      "\n",
      "It was dark, but there were lights in the room. I got up and went to the kitchen, and there was a refrigerator. I took the refrigerator out, and noticed that it was empty. I\n"
     ]
    }
   ],
   "source": [
    "print(generator(prompt, max_length=200, top_k=0, temperature=0.7)[0]['generated_text'])"
   ]
  },
  {
   "cell_type": "markdown",
   "id": "bf5e95ca",
   "metadata": {},
   "source": [
    "### This result is just ok. The part of \"I took the refrigerator out\" is kind of weird. So far I like the beams option best"
   ]
  },
  {
   "cell_type": "code",
   "execution_count": 37,
   "id": "5f16c3c0",
   "metadata": {},
   "outputs": [
    {
     "name": "stderr",
     "output_type": "stream",
     "text": [
      "Setting `pad_token_id` to `eos_token_id`:50256 for open-end generation.\n"
     ]
    },
    {
     "name": "stdout",
     "output_type": "stream",
     "text": [
      "Al and I were in a car on the city outskirts. It was a warm, sunny and clear day. I am not sure which city this was, but it was somewhere tropical. There were plants everywhere, and I could see weeds and grass growing out of sidewalk cracks. Despite being cute and quaint, I felt unsafe in this neighborhood.\n",
      "\n",
      "I decided to walk around. As I was doing that, a car drove past, and I turned to see who it was. I looked around and noticed there were no people in sight. I decided to go to an empty building. I entered the building and sat down at an empty table. The room was empty as well, but I could hear sounds that sounded like a man and woman talking. Then, suddenly, there was a loud noise that shook me. It was the sound of someone knocking something over, and a loud crash followed.\n",
      "\n",
      "I looked around the room for any clues, but there was nobody, and no one had noticed\n"
     ]
    }
   ],
   "source": [
    "print(generator(prompt, max_length=200, top_k=10)[0]['generated_text'])"
   ]
  },
  {
   "cell_type": "markdown",
   "id": "fbf7ee92",
   "metadata": {},
   "source": [
    "### There is a really good read to understand how top-k and top-p work:\n",
    "https://docs.cohere.ai/token-picking\n",
    "With this new knowledge, let's try playing with top-p"
   ]
  },
  {
   "cell_type": "code",
   "execution_count": 38,
   "id": "26ab3461",
   "metadata": {},
   "outputs": [
    {
     "name": "stderr",
     "output_type": "stream",
     "text": [
      "Setting `pad_token_id` to `eos_token_id`:50256 for open-end generation.\n"
     ]
    },
    {
     "name": "stdout",
     "output_type": "stream",
     "text": [
      "Al and I were in a car on the city outskirts. It was a warm, sunny and clear day. I am not sure which city this was, but it was somewhere tropical. There were plants everywhere, and I could see weeds and grass growing out of sidewalk cracks. Despite being cute and quaint, I felt unsafe in this neighborhood. I looked around and decided to head back home.\n",
      "\n",
      "After I arrived, I saw two men talking to a woman in a red dress walking in a lane. A group of people were gathered around. They were waiting for me. I was approached and asked to come out. I was hesitant and decided to turn around. I was greeted by two men, one in a black hoodie and another with a black ski mask and a gun. I was shocked at this and thought to myself, 'what do you mean, there is a gun?' They said, 'the gun is in the house, just a moment' and gave me the key to the\n"
     ]
    }
   ],
   "source": [
    "print(generator(prompt, max_length=200, top_p=0.85)[0]['generated_text'])"
   ]
  },
  {
   "cell_type": "markdown",
   "id": "c3072c22",
   "metadata": {},
   "source": [
    "### This is pretty good. Let's try a higher and lower value"
   ]
  },
  {
   "cell_type": "code",
   "execution_count": 39,
   "id": "145f4c72",
   "metadata": {},
   "outputs": [
    {
     "name": "stderr",
     "output_type": "stream",
     "text": [
      "Setting `pad_token_id` to `eos_token_id`:50256 for open-end generation.\n"
     ]
    },
    {
     "name": "stdout",
     "output_type": "stream",
     "text": [
      "Al and I were in a car on the city outskirts. It was a warm, sunny and clear day. I am not sure which city this was, but it was somewhere tropical. There were plants everywhere, and I could see weeds and grass growing out of sidewalk cracks. Despite being cute and quaint, I felt unsafe in this neighborhood. When the street car turned left into the neighborhood, I got out of the car and walked along the edge of the sidewalk. I walked in the direction of the police cars.\n",
      "\n",
      "After going all the way up to the building to the police offices, I was told there was a fire down there. I was not surprised, because it was always a fire when I was in a neighborhood. There were children playing in the middle of the street, and I assumed that they had done something foolish. I walked back to my apartment on the top floor of an apartment building. The police vehicles had already passed by us, and I could see them sitting at a\n"
     ]
    }
   ],
   "source": [
    "print(generator(prompt, max_length=200, top_p=0.95)[0]['generated_text'])"
   ]
  },
  {
   "cell_type": "code",
   "execution_count": 40,
   "id": "7ad534d0",
   "metadata": {},
   "outputs": [
    {
     "name": "stderr",
     "output_type": "stream",
     "text": [
      "Setting `pad_token_id` to `eos_token_id`:50256 for open-end generation.\n"
     ]
    },
    {
     "name": "stdout",
     "output_type": "stream",
     "text": [
      "Al and I were in a car on the city outskirts. It was a warm, sunny and clear day. I am not sure which city this was, but it was somewhere tropical. There were plants everywhere, and I could see weeds and grass growing out of sidewalk cracks. Despite being cute and quaint, I felt unsafe in this neighborhood.\n",
      "\n",
      "The driver stopped at a red light and turned right. I could see him walking slowly toward me. He was dressed in a white shirt and dark pants. He had a black hat and a black jacket. I could see that he was a young man. He was wearing a black baseball cap. He looked at me with a smile on his face. I looked back at him. I said nothing.\n",
      "\n",
      "I looked at the road and realized that the light was red. I knew that the light was red because it was in the direction that the car was going. I could see that he was going in the same direction as I was going.\n"
     ]
    }
   ],
   "source": [
    "print(generator(prompt, max_length=200, top_p=0.50)[0]['generated_text'])"
   ]
  },
  {
   "cell_type": "markdown",
   "id": "92928030",
   "metadata": {},
   "source": [
    "### I think 0.85 is a good start. Top_p .95 and 0.50 were weird. Let's try a lower number just for fun."
   ]
  },
  {
   "cell_type": "code",
   "execution_count": 41,
   "id": "164e8ccc",
   "metadata": {},
   "outputs": [
    {
     "name": "stderr",
     "output_type": "stream",
     "text": [
      "Setting `pad_token_id` to `eos_token_id`:50256 for open-end generation.\n"
     ]
    },
    {
     "name": "stdout",
     "output_type": "stream",
     "text": [
      "Al and I were in a car on the city outskirts. It was a warm, sunny and clear day. I am not sure which city this was, but it was somewhere tropical. There were plants everywhere, and I could see weeds and grass growing out of sidewalk cracks. Despite being cute and quaint, I felt unsafe in this neighborhood. I was not sure if I should be afraid of the people or the plants. I was not sure if I should be afraid of the people or the plants. I was not sure if I should be afraid of the people or the plants. I was not sure if I should be afraid of the people or the plants. I was not sure if I should be afraid of the people or the plants. I was not sure if I should be afraid of the people or the plants. I was not sure if I should be afraid of the people or the plants. I was not sure if I should be afraid of the people or the plants. I was not sure\n"
     ]
    }
   ],
   "source": [
    "print(generator(prompt, max_length=200, top_p=0.10)[0]['generated_text'])"
   ]
  },
  {
   "cell_type": "markdown",
   "id": "7f03eea1",
   "metadata": {},
   "source": [
    "### This one was funny. \"I am not sure if I should be afraid of the people or the plants\"!"
   ]
  },
  {
   "cell_type": "code",
   "execution_count": 42,
   "id": "50c4ba8e",
   "metadata": {},
   "outputs": [
    {
     "name": "stderr",
     "output_type": "stream",
     "text": [
      "Setting `pad_token_id` to `eos_token_id`:50256 for open-end generation.\n"
     ]
    },
    {
     "name": "stdout",
     "output_type": "stream",
     "text": [
      "Al and I were in a car on the city outskirts. It was a warm, sunny and clear day. I am not sure which city this was, but it was somewhere tropical. There were plants everywhere, and I could see weeds and grass growing out of sidewalk cracks. Despite being cute and quaint, I felt unsafe in this neighborhood.\n",
      "\n",
      "On the road we were just about to enter, a white pickup truck honked and passed us just because a driver in the other lane went by with his foot stuck out. Apparently a passenger saw our car. There was nothing I could do about it, so I rolled down the window to get his attention.\n",
      "\n",
      "\"My name is Justin, and I think you have a good view of me,\" said the man from the pickup.\n",
      "\n",
      "I opened my window back up and started trying to speak with him. \"Oh, well hello! It is nice to meet you.\"\n",
      "\n",
      "\"Yeah. I am about five minutes away from downtown\n"
     ]
    }
   ],
   "source": [
    "print(generator(prompt, max_length=200, top_p=0.99)[0]['generated_text'])"
   ]
  },
  {
   "cell_type": "markdown",
   "id": "5de7c5ad",
   "metadata": {},
   "source": [
    "### No. Too weird. Let's try again with .85"
   ]
  },
  {
   "cell_type": "code",
   "execution_count": 43,
   "id": "e6cd6508",
   "metadata": {},
   "outputs": [
    {
     "name": "stderr",
     "output_type": "stream",
     "text": [
      "Setting `pad_token_id` to `eos_token_id`:50256 for open-end generation.\n"
     ]
    },
    {
     "name": "stdout",
     "output_type": "stream",
     "text": [
      "Al and I were in a car on the city outskirts. It was a warm, sunny and clear day. I am not sure which city this was, but it was somewhere tropical. There were plants everywhere, and I could see weeds and grass growing out of sidewalk cracks. Despite being cute and quaint, I felt unsafe in this neighborhood. I felt like I was living in a place that was a little bit dangerous. I kept my eyes open for anything. I kept my phone on the dashboard to see if the police were called. It was late at night, and I thought maybe the police would be there in a minute. I was scared of going back to the apartment because I was afraid that my friend, who was in another apartment, would have heard me scream. I kept on driving. I could hear a voice saying \"Help me! I am lost. I'm lost. Help me! I'm lost. Help me!\" This was my fear.\n",
      "\n",
      "As I drove I kept\n"
     ]
    }
   ],
   "source": [
    "print(generator(prompt, max_length=200, top_p=.85)[0]['generated_text'])"
   ]
  },
  {
   "cell_type": "code",
   "execution_count": 44,
   "id": "272b50a0",
   "metadata": {},
   "outputs": [
    {
     "name": "stderr",
     "output_type": "stream",
     "text": [
      "Setting `pad_token_id` to `eos_token_id`:50256 for open-end generation.\n"
     ]
    },
    {
     "name": "stdout",
     "output_type": "stream",
     "text": [
      "Al and I were in a car on the city outskirts. It was a warm, sunny and clear day. I am not sure which city this was, but it was somewhere tropical. There were plants everywhere, and I could see weeds and grass growing out of sidewalk cracks. Despite being cute and quaint, I felt unsafe in this neighborhood. We were a couple of blocks from the train tracks, and the traffic on the street was extremely heavy. This is what made us feel even more vulnerable.\n",
      "\n",
      "We came upon a big apartment complex which was just a couple of blocks from us. It was a bit of a mess, but it was empty. It was empty, but this apartment complex was occupied and had a couple of people in the living room. I noticed my boyfriend was staring out of the window at a strange figure in the bushes across the street, and I started to wonder if he was the same person who was standing in my front yard a short time ago.\n",
      "\n",
      "My mind\n"
     ]
    }
   ],
   "source": [
    "print(generator(prompt, max_length=200, top_p=.90)[0]['generated_text'])"
   ]
  },
  {
   "cell_type": "markdown",
   "id": "8befb03b",
   "metadata": {},
   "source": [
    "### So it is decided. Top_p between .85 and .90 yield coherent results (for my purposes). But what happens with I mix that with top_k?"
   ]
  },
  {
   "cell_type": "code",
   "execution_count": 47,
   "id": "12e5f229",
   "metadata": {},
   "outputs": [
    {
     "name": "stderr",
     "output_type": "stream",
     "text": [
      "Setting `pad_token_id` to `eos_token_id`:50256 for open-end generation.\n"
     ]
    },
    {
     "name": "stdout",
     "output_type": "stream",
     "text": [
      "Al and I were in a car on the city outskirts. It was a warm, sunny and clear day. I am not sure which city this was, but it was somewhere tropical. There were plants everywhere, and I could see weeds and grass growing out of sidewalk cracks. Despite being cute and quaint, I felt unsafe in this neighborhood.\n",
      "\n",
      "I was not feeling very safe.\n",
      "\n",
      "It was a very dark, rainy day and there were many cars in the road.\n",
      "\n",
      "A young man and a woman came out of the car and approached us.\n",
      "\n",
      "They had their hands in the pockets of their jackets.\n",
      "\n",
      "They were not wearing sunglasses and their eyes were bloodshot.\n",
      "\n",
      "Their eyes were bloodshot because they had just been hit by a stray bullet.\n",
      "\n",
      "The young man had a bullet lodged in his head.\n",
      "\n",
      "I asked them what had happened to them.\n",
      "\n",
      "They told me that they were shot while on their way to the hospital.\n",
      "\n"
     ]
    }
   ],
   "source": [
    "print(generator(prompt, max_length=200, top_k=10, top_p=0.90)[0]['generated_text'])"
   ]
  },
  {
   "cell_type": "markdown",
   "id": "57195eb2",
   "metadata": {},
   "source": [
    "### I see some repetition here. Let's adjust the values"
   ]
  },
  {
   "cell_type": "code",
   "execution_count": 48,
   "id": "1b4c68ff",
   "metadata": {},
   "outputs": [
    {
     "name": "stderr",
     "output_type": "stream",
     "text": [
      "Setting `pad_token_id` to `eos_token_id`:50256 for open-end generation.\n"
     ]
    },
    {
     "name": "stdout",
     "output_type": "stream",
     "text": [
      "Al and I were in a car on the city outskirts. It was a warm, sunny and clear day. I am not sure which city this was, but it was somewhere tropical. There were plants everywhere, and I could see weeds and grass growing out of sidewalk cracks. Despite being cute and quaint, I felt unsafe in this neighborhood. I was not sure if I should be afraid of the people or the plants. I was not sure if I should be afraid of the people or the plants. I was not sure if I should be afraid of the people or the plants. I was not sure if I should be afraid of the people or the plants. I was not sure if I should be afraid of the people or the plants. I was not sure if I should be afraid of the people or the plants. I was not sure if I should be afraid of the people or the plants. I was not sure if I should be afraid of the people or the plants. I was not sure\n"
     ]
    }
   ],
   "source": [
    "print(generator(prompt, max_length=200, top_k=1, top_p=0.90)[0]['generated_text'])"
   ]
  },
  {
   "cell_type": "markdown",
   "id": "15e09c6d",
   "metadata": {},
   "source": [
    "### I am not sure if I should be afraid of the people or the plants. Interesting"
   ]
  },
  {
   "cell_type": "code",
   "execution_count": 49,
   "id": "ec85714a",
   "metadata": {},
   "outputs": [
    {
     "name": "stderr",
     "output_type": "stream",
     "text": [
      "Setting `pad_token_id` to `eos_token_id`:50256 for open-end generation.\n"
     ]
    },
    {
     "name": "stdout",
     "output_type": "stream",
     "text": [
      "Al and I were in a car on the city outskirts. It was a warm, sunny and clear day. I am not sure which city this was, but it was somewhere tropical. There were plants everywhere, and I could see weeds and grass growing out of sidewalk cracks. Despite being cute and quaint, I felt unsafe in this neighborhood. I wasn't sure if this is what they meant by the street that was now filled with beautiful, lush plants, or if it was a more urban version of the streets I've seen on shows like Orange is the New Black and True Detective.\n",
      "\n",
      "It's funny, but for the first half of the show I was wondering if it was real. I really had no idea what was going on, but my gut told me this was real, and it felt like a show that was crafted with a real sense of place. I don't know if this is my first trip into this world, but I had no idea I could feel anything that was different\n"
     ]
    }
   ],
   "source": [
    "print(generator(prompt, max_length=200, top_k=50, top_p=0.90)[0]['generated_text'])"
   ]
  },
  {
   "cell_type": "code",
   "execution_count": 50,
   "id": "5a17f140",
   "metadata": {},
   "outputs": [
    {
     "name": "stderr",
     "output_type": "stream",
     "text": [
      "Setting `pad_token_id` to `eos_token_id`:50256 for open-end generation.\n"
     ]
    },
    {
     "name": "stdout",
     "output_type": "stream",
     "text": [
      "Al and I were in a car on the city outskirts. It was a warm, sunny and clear day. I am not sure which city this was, but it was somewhere tropical. There were plants everywhere, and I could see weeds and grass growing out of sidewalk cracks. Despite being cute and quaint, I felt unsafe in this neighborhood. I decided to turn left onto a main road and head back to the city. I had not seen any cars or trucks for miles.\n",
      "\n",
      "In the evening, we went for a walk and then I drove to the airport. As I was driving to the airport, I saw a small airplane flying overhead. It was an old-fashioned-looking plane. It had no markings and the only identifying feature was a small white plane painted on the side. I drove past the plane and saw it parked.\n",
      "\n",
      "I looked up to see what kind of plane it was. It was a small plane with a propeller in the back, just like the one\n"
     ]
    }
   ],
   "source": [
    "print(generator(prompt, max_length=200, top_k=20, top_p=0.90)[0]['generated_text'])"
   ]
  },
  {
   "cell_type": "code",
   "execution_count": 51,
   "id": "e0b12e9c",
   "metadata": {},
   "outputs": [
    {
     "name": "stderr",
     "output_type": "stream",
     "text": [
      "Setting `pad_token_id` to `eos_token_id`:50256 for open-end generation.\n"
     ]
    },
    {
     "name": "stdout",
     "output_type": "stream",
     "text": [
      "Al and I were in a car on the city outskirts. It was a warm, sunny and clear day. I am not sure which city this was, but it was somewhere tropical. There were plants everywhere, and I could see weeds and grass growing out of sidewalk cracks. Despite being cute and quaint, I felt unsafe in this neighborhood. The police officers were not only unprofessional and rude, but they were also rude towards me.\n",
      "\n",
      "I asked for directions to my destination. The officer asked me to put my shoes back on, which I declined. He insisted that I put my shoes on and give him my name, which I refused.\n",
      "\n",
      "The cop was so rude that it actually made me laugh. He kept asking me if I wanted to pay for my shoes and I said no. He told me that he was the one who called me in, but then proceeded to demand $300, which I refused to pay, even after he got mad.\n",
      "\n",
      "After about an hour\n"
     ]
    }
   ],
   "source": [
    "print(generator(prompt, max_length=200, top_p=0.90)[0]['generated_text'])"
   ]
  },
  {
   "cell_type": "markdown",
   "id": "ee4102f5",
   "metadata": {},
   "source": [
    "### I think I will leave top_k alone and use only top_p. One more thing to research is the combination of top_p and beams"
   ]
  },
  {
   "cell_type": "code",
   "execution_count": 53,
   "id": "3e7699e9",
   "metadata": {},
   "outputs": [
    {
     "name": "stderr",
     "output_type": "stream",
     "text": [
      "Setting `pad_token_id` to `eos_token_id`:50256 for open-end generation.\n"
     ]
    },
    {
     "name": "stdout",
     "output_type": "stream",
     "text": [
      "Al and I were in a car on the city outskirts. It was a warm, sunny and clear day. I am not sure which city this was, but it was somewhere tropical. There were plants everywhere, and I could see weeds and grass growing out of sidewalk cracks. Despite being cute and quaint, I felt unsafe in this neighborhood.\n",
      "\n",
      "I got in my car and drove away from the scene of the crime. When I got to my home, the police were waiting for me. They told me that I had to come to the station to give a statement about the incident. The police said that if I did not cooperate, they would arrest me and take me to jail. After I gave the statement, a police officer took me into a small room and asked me questions. He asked a lot of questions about me, about my family, my friends and what I was doing at the time. At the end of his questioning, he said, \"We are going to take you to\n"
     ]
    }
   ],
   "source": [
    "print(generator(prompt, max_length=200, top_p=0.90, num_beams=3, early_stopping=True, no_repeat_ngram_size=2)[0]['generated_text'])"
   ]
  },
  {
   "cell_type": "code",
   "execution_count": 54,
   "id": "ee27e61c",
   "metadata": {},
   "outputs": [
    {
     "name": "stderr",
     "output_type": "stream",
     "text": [
      "Setting `pad_token_id` to `eos_token_id`:50256 for open-end generation.\n"
     ]
    },
    {
     "name": "stdout",
     "output_type": "stream",
     "text": [
      "Al and I were in a car on the city outskirts. It was a warm, sunny and clear day. I am not sure which city this was, but it was somewhere tropical. There were plants everywhere, and I could see weeds and grass growing out of sidewalk cracks. Despite being cute and quaint, I felt unsafe in this neighborhood.\n",
      "\n",
      "I was sitting in the back seat of the car, looking out the window. The sun was shining through the glass, illuminating the street. As I was looking at the scenery, a man approached me from behind. He was wearing a white shirt, black pants and black shoes. His face was covered by a black hoodie and he was holding a baseball bat in his right hand. When he saw me, he turned his back on me and started to walk away from me. After a few minutes, the man came back and asked me if I wanted to go to the park with him. At first I said no, because I didn't want\n"
     ]
    }
   ],
   "source": [
    "print(generator(prompt, max_length=200, top_p=0.85, num_beams=5, early_stopping=True, no_repeat_ngram_size=2)[0]['generated_text'])"
   ]
  },
  {
   "cell_type": "markdown",
   "id": "868a12c7",
   "metadata": {},
   "source": [
    "### I am actually satisfied with this result. Let run things again just in case"
   ]
  },
  {
   "cell_type": "code",
   "execution_count": 55,
   "id": "37ba6035",
   "metadata": {},
   "outputs": [
    {
     "name": "stderr",
     "output_type": "stream",
     "text": [
      "Setting `pad_token_id` to `eos_token_id`:50256 for open-end generation.\n"
     ]
    },
    {
     "name": "stdout",
     "output_type": "stream",
     "text": [
      "Al and I were in a car on the city outskirts. It was a warm, sunny and clear day. I am not sure which city this was, but it was somewhere tropical. There were plants everywhere, and I could see weeds and grass growing out of sidewalk cracks. Despite being cute and quaint, I felt unsafe in this neighborhood.\n",
      "\n",
      "I was in the middle of the street when I saw a man standing in front of a building. He was wearing a black t-shirt, jeans and sneakers. His face was covered by a hoodie and he was holding a baseball bat in his right hand. The bat had a hole in it and it looked like it had been used to bash someone's head in. As I watched, the man walked up to the building and swung the bat at the front door. When the door swung open, a young man with dark hair and glasses stepped out and looked at him with a smile on his face. Then, he turned around and walked away\n"
     ]
    }
   ],
   "source": [
    "print(generator(prompt, max_length=200, top_p=0.85, num_beams=5, early_stopping=True, no_repeat_ngram_size=2)[0]['generated_text'])"
   ]
  },
  {
   "cell_type": "markdown",
   "id": "59e22283",
   "metadata": {},
   "source": [
    "### I think because I have the word \"unsafe\" in my prompt I am getting this kind of results. I wonder how much the \"warm, sunny and clear\" are adding to the response. I will keep this in mind as I write my dream-based responses."
   ]
  },
  {
   "cell_type": "markdown",
   "id": "15de4e24",
   "metadata": {},
   "source": [
    "### Let's add the rest of the prompts"
   ]
  },
  {
   "cell_type": "code",
   "execution_count": 10,
   "id": "a35651f6",
   "metadata": {},
   "outputs": [],
   "source": [
    "dream_prompts = [\n",
    "    'Al and I were in a car on the city outskirts. It was a warm, sunny and clear day. I am not sure which city this was, but it was somewhere tropical. There were plants everywhere, and I could see weeds and grass growing out of sidewalk cracks. Despite being cute and quaint, I felt unsafe in this neighborhood.',\n",
    "    'Someone knocks on the door of the motel room I am staying in. A pleasant man introduces himself as the person staying next door. There is no hot water in my room, he says. I suggest asking the front desk for help. The man says that I am responsible since I rented him the room. By now, the man has changed his tone. He sounds menacing and aggressive.',\n",
    "    'Two rooms appeared in my house\\'s backyard out of nowhere. I walk closer and discover that the largest one is full of men. They tell me they need more light and demand 320-Volt light bulbs as soon as possible. I start to wonder how they got there and how I can ask them to leave.',\n",
    "    'I see a small yellow bird on the ground. When I grab it with both hands, the bird becomes agitated and dies. As I hold it, its feathers start drying and turning into dust. I turned around and saw another bird, but this one was free.',\n",
    "    'I\\'m in a car traveling across a rural area in Peru when the driver asks me to get out. He says I can walk to my destination in about an hour. But I don\\'t want to walk because the area looks dangerous. So the driver takes me to an unlicensed taxi stop. I negotiate a price with a new driver and get in his car.',\n",
    "    'I am at home cooking with a friend. We are chatting, laughing and having a good time. We served a couple of plates, and set them on the table. When we sat down to eat, our plates disappeared and we had nothing to eat. I looked at my friend. Her mood had changed. She looked very serious.'\n",
    "]"
   ]
  },
  {
   "cell_type": "code",
   "execution_count": 11,
   "id": "973fbe40",
   "metadata": {},
   "outputs": [
    {
     "data": {
      "text/plain": [
       "['Al and I were in a car on the city outskirts. It was a warm, sunny and clear day. I am not sure which city this was, but it was somewhere tropical. There were plants everywhere, and I could see weeds and grass growing out of sidewalk cracks. Despite being cute and quaint, I felt unsafe in this neighborhood.',\n",
       " 'Someone knocks on the door of the motel room I am staying in. A pleasant man introduces himself as the person staying next door. There is no hot water in my room, he says. I suggest asking the front desk for help. The man says that I am responsible since I rented him the room. By now, the man has changed his tone. He sounds menacing and aggressive.',\n",
       " \"Two rooms appeared in my house's backyard out of nowhere. I walk closer and discover that the largest one is full of men. They tell me they need more light and demand 320-Volt light bulbs as soon as possible. I start to wonder how they got there and how I can ask them to leave.\",\n",
       " 'I see a small yellow bird on the ground. When I grab it with both hands, the bird becomes agitated and dies. As I hold it, its feathers start drying and turning into dust. I turned around and saw another bird, but this one was free.',\n",
       " \"I'm in a car traveling across a rural area in Peru when the driver asks me to get out. He says I can walk to my destination in about an hour. But I don't want to walk because the area looks dangerous. So the driver takes me to an unlicensed taxi stop. I negotiate a price with a new driver and get in his car.\",\n",
       " 'I am at home cooking with a friend. We are chatting, laughing and having a good time. We served a couple of plates, and set them on the table. When we sat down to eat, our plates disappeared and we had nothing to eat. I looked at my friend. Her mood had changed. She looked very serious.']"
      ]
     },
     "execution_count": 11,
     "metadata": {},
     "output_type": "execute_result"
    }
   ],
   "source": [
    "dream_prompts"
   ]
  },
  {
   "cell_type": "code",
   "execution_count": 12,
   "id": "cf8830c1",
   "metadata": {},
   "outputs": [
    {
     "name": "stdout",
     "output_type": "stream",
     "text": [
      "Someone knocks on the door of the motel room I am staying in. A pleasant man introduces himself as the person staying next door. There is no hot water in my room, he says. I suggest asking the front desk for help. The man says that I am responsible since I rented him the room. By now, the man has changed his tone. He sounds menacing and aggressive.\n"
     ]
    }
   ],
   "source": [
    "print(dream_prompts[1])"
   ]
  },
  {
   "cell_type": "code",
   "execution_count": 8,
   "id": "4063fec0",
   "metadata": {},
   "outputs": [
    {
     "name": "stdout",
     "output_type": "stream",
     "text": [
      "0\n",
      "1\n",
      "2\n",
      "3\n",
      "4\n",
      "5\n"
     ]
    }
   ],
   "source": [
    "for i in range(6):\n",
    "    print(i)"
   ]
  },
  {
   "cell_type": "code",
   "execution_count": 19,
   "id": "f0ed2a05",
   "metadata": {},
   "outputs": [
    {
     "name": "stderr",
     "output_type": "stream",
     "text": [
      "Setting `pad_token_id` to `eos_token_id`:50256 for open-end generation.\n",
      "Setting `pad_token_id` to `eos_token_id`:50256 for open-end generation.\n"
     ]
    },
    {
     "name": "stdout",
     "output_type": "stream",
     "text": [
      "Al and I were in a car on the city outskirts. It was a warm, sunny and clear day. I am not sure which city this was, but it was somewhere tropical. There were plants everywhere, and I could see weeds and grass growing out of sidewalk cracks. Despite being cute and quaint, I felt unsafe in this neighborhood.\n",
      "\n",
      "I was in the middle of a conversation with a friend when I heard a loud noise coming from the other side of the street. When I turned around to see what was going on, there was an old man with his back to me. He was wearing a black t-shirt and jeans. His eyes were bloodshot and he looked like he was about to pass out. The man looked at me and said, \"Hey, what are you doing here? You're not supposed to be here.\" I told him that I was on my way to the grocery store to pick up some food for my family and asked him if he wanted to come with\n"
     ]
    },
    {
     "name": "stderr",
     "output_type": "stream",
     "text": [
      "Setting `pad_token_id` to `eos_token_id`:50256 for open-end generation.\n"
     ]
    },
    {
     "name": "stdout",
     "output_type": "stream",
     "text": [
      "Someone knocks on the door of the motel room I am staying in. A pleasant man introduces himself as the person staying next door. There is no hot water in my room, he says. I suggest asking the front desk for help. The man says that I am responsible since I rented him the room. By now, the man has changed his tone. He sounds menacing and aggressive.\n",
      "\n",
      "\"I'm going to kill you,\" he tells me. \"I don't care if you are a man, a woman, or a child. If you try to leave, I will shoot you in the back of your head.\" I ask him if he has a gun, and he replies, \"No, but I have a knife.\" He says he will kill me if I do not get out of his room as quickly as possible. After a few minutes of back and forth, we agree to meet at a nearby convenience store. When I arrive at the store, there is a group of men\n"
     ]
    },
    {
     "name": "stderr",
     "output_type": "stream",
     "text": [
      "Setting `pad_token_id` to `eos_token_id`:50256 for open-end generation.\n"
     ]
    },
    {
     "name": "stdout",
     "output_type": "stream",
     "text": [
      "Two rooms appeared in my house's backyard out of nowhere. I walk closer and discover that the largest one is full of men. They tell me they need more light and demand 320-Volt light bulbs as soon as possible. I start to wonder how they got there and how I can ask them to leave.\n",
      "\n",
      "The next morning, I wake up to find that all of the lights in the house have been switched off. The men have moved on to the next room. When I ask why, they say it's time for me to go to work.\n"
     ]
    },
    {
     "name": "stderr",
     "output_type": "stream",
     "text": [
      "Setting `pad_token_id` to `eos_token_id`:50256 for open-end generation.\n"
     ]
    },
    {
     "name": "stdout",
     "output_type": "stream",
     "text": [
      "I see a small yellow bird on the ground. When I grab it with both hands, the bird becomes agitated and dies. As I hold it, its feathers start drying and turning into dust. I turned around and saw another bird, but this one was free.\n",
      "\n",
      "\"It's a bird of prey,\" I said, pointing at the dead bird. \"I don't know what kind of bird it is, and I'm not sure if it's dangerous or not. But it can't fly, so it must be a prey bird.\" I looked at my watch. It was 9:30 in the morning. There was no way I was going to be able to catch this bird before it flew off. So I decided to go back to my room and sleep for the rest of the day.\n"
     ]
    },
    {
     "name": "stderr",
     "output_type": "stream",
     "text": [
      "Setting `pad_token_id` to `eos_token_id`:50256 for open-end generation.\n"
     ]
    },
    {
     "name": "stdout",
     "output_type": "stream",
     "text": [
      "I'm in a car traveling across a rural area in Peru when the driver asks me to get out. He says I can walk to my destination in about an hour. But I don't want to walk because the area looks dangerous. So the driver takes me to an unlicensed taxi stop. I negotiate a price with a new driver and get in his car.\n",
      "\n",
      "I get into the backseat of the car, and it's dark. It's raining. The rain is so heavy that the windshield wipers are useless. There's no air conditioning, so I have to sit in the rain for hours. Finally, I find a place to put my head down and wait for the taxi to pick me up. When I get to the destination, there's a sign on the door that says, \"No passengers allowed.\" The driver tells me that I'm not allowed to leave until I pay a fine of about $1,000 for driving without a license. Then he drives off.\n",
      "I am at home cooking with a friend. We are chatting, laughing and having a good time. We served a couple of plates, and set them on the table. When we sat down to eat, our plates disappeared and we had nothing to eat. I looked at my friend. Her mood had changed. She looked very serious.\n",
      "\n",
      "\"What is wrong?\" I asked. \"What did you do to my plate?\" She said, \"I took it away from you.\" I was confused. What did she mean by that? I had no idea what she was talking about, so I started to ask her what had happened. After a few minutes, she said that she had taken the plate from me and put it in the trash. Then she went on to tell me that I needed to clean up my room and get out of the house as soon as possible. That was the last I heard from her for the rest of that day. The next day, I went back to the\n"
     ]
    }
   ],
   "source": [
    "for i in range(6):\n",
    "    print(generator(dream_prompts[i], max_length=200, top_p=0.85, num_beams=5, early_stopping=True, no_repeat_ngram_size=2)[0]['generated_text'])"
   ]
  },
  {
   "cell_type": "code",
   "execution_count": 11,
   "id": "0704cdf4",
   "metadata": {},
   "outputs": [
    {
     "name": "stderr",
     "output_type": "stream",
     "text": [
      "Setting `pad_token_id` to `eos_token_id`:50256 for open-end generation.\n",
      "Setting `pad_token_id` to `eos_token_id`:50256 for open-end generation.\n"
     ]
    },
    {
     "name": "stdout",
     "output_type": "stream",
     "text": [
      "Al and I were in a car on the city outskirts. It was a warm, sunny and clear day. I am not sure which city this was, but it was somewhere tropical. There were plants everywhere, and I could see weeds and grass growing out of sidewalk cracks. Despite being cute and quaint, I felt unsafe in this neighborhood.\n",
      "\n",
      "As I was driving through the neighborhood, a man came up to me and asked me if I wanted to take a picture with him. He said he was an artist and he wanted me to draw a portrait of him and his wife. We got into a conversation about art and what I liked and didn't like about it. At one point I asked him if he would like to buy me a drink. When he said no, he pulled out his wallet and said, \"I'm going to pay for the drink.\" I told him I wasn't interested in paying for his drink and that I would just take the picture. The man told me that\n"
     ]
    },
    {
     "name": "stderr",
     "output_type": "stream",
     "text": [
      "Setting `pad_token_id` to `eos_token_id`:50256 for open-end generation.\n"
     ]
    },
    {
     "name": "stdout",
     "output_type": "stream",
     "text": [
      "Someone knocks on the door of the motel room I am staying in. A pleasant man introduces himself as the person staying next door. There is no hot water in my room, he says. I suggest asking the front desk for help. The man says that I am responsible since I rented him the room. By now, the man has changed his tone. He sounds menacing and aggressive.\n",
      "\n",
      "I tell him I don't want to talk to him, and he tells me that he will call the police if I refuse to leave. When I ask him what he means by \"police,\" he replies, \"The police will be here in an hour.\" He says he has a gun, but he won't tell me what it is, because he doesn't know how to use it. At that point, I realize that this is not the first time I've been threatened by a stranger in a motel. In fact, it has happened several times in the past few months. But this time,\n"
     ]
    },
    {
     "name": "stderr",
     "output_type": "stream",
     "text": [
      "Setting `pad_token_id` to `eos_token_id`:50256 for open-end generation.\n"
     ]
    },
    {
     "name": "stdout",
     "output_type": "stream",
     "text": [
      "Two rooms appeared in my house's backyard out of nowhere. I walk closer and discover that the largest one is full of men. They tell me they need more light and demand 320-Volt light bulbs as soon as possible. I start to wonder how they got there and how I can ask them to leave.\n",
      "\n",
      "The next day, I get a call from a man who says he's the owner of one of the rooms. He tells me his name is John and that he and his wife have been living in the house for about a year and a half. When they moved in, he says, they paid $1,500 for the place. Now they're asking for $2,000. \"We're just trying to make a little bit of extra money,\" John says. His wife, who is also named John, says she's also looking for a place to live, but she doesn't want to move in with her husband. She wants to stay with him and their\n"
     ]
    },
    {
     "name": "stderr",
     "output_type": "stream",
     "text": [
      "Setting `pad_token_id` to `eos_token_id`:50256 for open-end generation.\n"
     ]
    },
    {
     "name": "stdout",
     "output_type": "stream",
     "text": [
      "I see a small yellow bird on the ground. When I grab it with both hands, the bird becomes agitated and dies. As I hold it, its feathers start drying and turning into dust. I turned around and saw another bird, but this one was free. It flew away.\n",
      "\n",
      "After a few minutes, I saw a third bird. This time, it was a little bigger than the first two. Its feathers were white and it had a black spot on its back. After a while, a fourth bird appeared, and I was able to catch it. The bird had white feathers and a white spot in the middle of the back, which was very similar to the one I had seen before. However, this bird was much bigger and had black feathers all over its body, as well as black spots on both sides of its head.\n"
     ]
    },
    {
     "name": "stderr",
     "output_type": "stream",
     "text": [
      "Setting `pad_token_id` to `eos_token_id`:50256 for open-end generation.\n"
     ]
    },
    {
     "name": "stdout",
     "output_type": "stream",
     "text": [
      "I'm in a car traveling across a rural area in Peru when the driver asks me to get out. He says I can walk to my destination in about an hour. But I don't want to walk because the area looks dangerous. So the driver takes me to an unlicensed taxi stop. I negotiate a price with a new driver and get in his car.\n",
      "\n",
      "The next day, I'm back in the same place, but this time I have no idea where I am or what to do. The taxi driver tells me he's going to give me a ride to the airport, where he says he'll drop me off and take me on my way. When I ask him what he means by that, he replies, \"I'll give you a map of the city and tell you where to go.\" I tell him that's not what I want, and that I'd rather take a taxi. After a few minutes of arguing, we finally agree to meet at a nearby hotel.\n",
      "I am at home cooking with a friend. We are chatting, laughing and having a good time. We served a couple of plates, and set them on the table. When we sat down to eat, our plates disappeared and we had nothing to eat. I looked at my friend. Her mood had changed. She looked very serious.\n",
      "\n",
      "\"What's wrong?\" I asked. \"Why are you looking at me like that?\" She turned to me and said, \"I'm sorry, I don't know what to tell you.\" I was confused. Why did she look so sad? What was wrong with her? I tried to comfort her, but I couldn't understand what was going on. After a few minutes of silence, she said: \"You know that I love you very much. You are the best person I have ever met in my life. Please forgive me for what I did.\" She said this with tears in her eyes. It was the first time I had ever seen\n"
     ]
    }
   ],
   "source": [
    "for i in range(6):\n",
    "    print(generator(dream_prompts[i], max_length=200, top_p=0.85, num_beams=5, early_stopping=True, no_repeat_ngram_size=2)[0]['generated_text'])"
   ]
  },
  {
   "cell_type": "code",
   "execution_count": 12,
   "id": "75578cd5",
   "metadata": {},
   "outputs": [
    {
     "name": "stderr",
     "output_type": "stream",
     "text": [
      "Setting `pad_token_id` to `eos_token_id`:50256 for open-end generation.\n",
      "Setting `pad_token_id` to `eos_token_id`:50256 for open-end generation.\n"
     ]
    },
    {
     "name": "stdout",
     "output_type": "stream",
     "text": [
      "Al and I were in a car on the city outskirts. It was a warm, sunny and clear day. I am not sure which city this was, but it was somewhere tropical. There were plants everywhere, and I could see weeds and grass growing out of sidewalk cracks. Despite being cute and quaint, I felt unsafe in this neighborhood.\n",
      "\n",
      "I decided to leave the car and go to a nearby park. When I got to the park, there were a lot of people there. Some of them were walking their dogs, while others were playing with their kids. One of the people I was with asked me if I wanted to join them for a walk. Of course I said yes. We walked for about an hour and a half, until we reached a park that had a playground. As we were about to enter the playground, a group of kids came up to us and asked us if we could play with them. They told us that they were going to play soccer with a friend of\n"
     ]
    },
    {
     "name": "stderr",
     "output_type": "stream",
     "text": [
      "Setting `pad_token_id` to `eos_token_id`:50256 for open-end generation.\n"
     ]
    },
    {
     "name": "stdout",
     "output_type": "stream",
     "text": [
      "Someone knocks on the door of the motel room I am staying in. A pleasant man introduces himself as the person staying next door. There is no hot water in my room, he says. I suggest asking the front desk for help. The man says that I am responsible since I rented him the room. By now, the man has changed his tone. He sounds menacing and aggressive. \"I am going to kill you,\" he tells me.\n",
      "\n",
      "I don't know what to do, so I tell him I will call the police if he doesn't leave me alone. At that point, I realize I have no idea how to get out of this situation, and I can't afford to pay for a taxi. So I decide to walk to the nearest police station, which is about a five-minute walk from my hotel. As I walk down the street, a police car pulls up in front of me and a man inside the car says, \"What are you doing here?\" I\n"
     ]
    },
    {
     "name": "stderr",
     "output_type": "stream",
     "text": [
      "Setting `pad_token_id` to `eos_token_id`:50256 for open-end generation.\n"
     ]
    },
    {
     "name": "stdout",
     "output_type": "stream",
     "text": [
      "Two rooms appeared in my house's backyard out of nowhere. I walk closer and discover that the largest one is full of men. They tell me they need more light and demand 320-Volt light bulbs as soon as possible. I start to wonder how they got there and how I can ask them to leave.\n",
      "\n",
      "I'm not really sure what I'm going to do, but I don't want to stay here any longer than I have to, so I decide to go to the neighbor's house and ask for help. She tells me that she's been trying to get the lights turned on for the past few days and that there's nothing she can do about it. So I ask her if she knows anyone who might be able to help me, and she says she doesn't know anyone that would be interested in helping me. That's when I realize that this is the first time I've ever been in a situation where I didn't have a friend or family member to turn to\n"
     ]
    },
    {
     "name": "stderr",
     "output_type": "stream",
     "text": [
      "Setting `pad_token_id` to `eos_token_id`:50256 for open-end generation.\n"
     ]
    },
    {
     "name": "stdout",
     "output_type": "stream",
     "text": [
      "I see a small yellow bird on the ground. When I grab it with both hands, the bird becomes agitated and dies. As I hold it, its feathers start drying and turning into dust. I turned around and saw another bird, but this one was free.\n",
      "\n",
      "\"I'm not sure what I'm supposed to do with this bird,\" I said to myself. \"I don't know if it's a bird or a squirrel or something. It looks like a little bird to me, so I think I should let it go.\" I picked up the small bird and put it in my pocket. Then I took out my phone and started to take a picture of it. Suddenly, I felt a hand on my shoulder and I realized that it was my father. He said, \"Come on, let's go home. We're going to go to the park and play some games.\" He took me by the hand and led me back to our house. Once we got there, he\n"
     ]
    },
    {
     "name": "stderr",
     "output_type": "stream",
     "text": [
      "Setting `pad_token_id` to `eos_token_id`:50256 for open-end generation.\n"
     ]
    },
    {
     "name": "stdout",
     "output_type": "stream",
     "text": [
      "I'm in a car traveling across a rural area in Peru when the driver asks me to get out. He says I can walk to my destination in about an hour. But I don't want to walk because the area looks dangerous. So the driver takes me to an unlicensed taxi stop. I negotiate a price with a new driver and get in his car.\n",
      "\n",
      "The driver tells me that I have to pay a bribe of 50 pesos ($1.50) for the ride. When I ask what the bribe is, he says he doesn't know, but that he'll pay it when I get to the destination. As I'm about to leave the taxi, I hear a loud noise from the back of the vehicle. The driver turns around and says, \"Don't worry, it's just a dog barking.\" The dog barks again, and I realize that it is a wild dog. It's a big dog, about the size of a Labrador retriever, that is\n",
      "I am at home cooking with a friend. We are chatting, laughing and having a good time. We served a couple of plates, and set them on the table. When we sat down to eat, our plates disappeared and we had nothing to eat. I looked at my friend. Her mood had changed. She looked very serious. \"What happened?\" I asked.\n",
      "\n",
      "She said, \"I had a dream last night that I was in the middle of the ocean and I saw a ship coming towards me. It was a big ship and it was sinking. The ship was going to hit me, but it didn't. Instead, the ship turned around and went back to where it came from. That's when I woke up.\" She said that she had been having these dreams for a long time and that they seemed to be getting worse and worse. Then she told me the story of her dream.\n"
     ]
    }
   ],
   "source": [
    "for i in range(6):\n",
    "    print(generator(dream_prompts[i], max_length=200, top_p=0.85, num_beams=5, early_stopping=True, no_repeat_ngram_size=2)[0]['generated_text'])\n",
    "    "
   ]
  },
  {
   "cell_type": "code",
   "execution_count": 13,
   "id": "50a4dea9",
   "metadata": {},
   "outputs": [
    {
     "name": "stderr",
     "output_type": "stream",
     "text": [
      "Setting `pad_token_id` to `eos_token_id`:50256 for open-end generation.\n",
      "Setting `pad_token_id` to `eos_token_id`:50256 for open-end generation.\n"
     ]
    },
    {
     "name": "stdout",
     "output_type": "stream",
     "text": [
      "Al and I were in a car on the city outskirts. It was a warm, sunny and clear day. I am not sure which city this was, but it was somewhere tropical. There were plants everywhere, and I could see weeds and grass growing out of sidewalk cracks. Despite being cute and quaint, I felt unsafe in this neighborhood.\n",
      "\n",
      "The car was parked in front of a house. The house was built in the late 1800s, so it had not been renovated since the 1950s. In the middle of the street, the front door was slightly ajar. Inside the house, there were three bedrooms, one bathroom, a kitchen and a living room with a fireplace. All the furniture was made of wood and was in good condition. As I was walking up the stairs to the kitchen, my eyes were drawn to a piece of furniture that I had never seen before. This was an old wooden table that had been used as a dining table for a long time. On the table\n"
     ]
    },
    {
     "name": "stderr",
     "output_type": "stream",
     "text": [
      "Setting `pad_token_id` to `eos_token_id`:50256 for open-end generation.\n"
     ]
    },
    {
     "name": "stdout",
     "output_type": "stream",
     "text": [
      "Someone knocks on the door of the motel room I am staying in. A pleasant man introduces himself as the person staying next door. There is no hot water in my room, he says. I suggest asking the front desk for help. The man says that I am responsible since I rented him the room. By now, the man has changed his tone. He sounds menacing and aggressive.\n",
      "\n",
      "\"I'm going to tell you what you want to hear,\" he tells me. \"If you don't pay me, I will kill you.\" I tell him I do not owe him any money and that he has no right to demand money from me for something I did not do. But he continues to threaten me with violence, telling me that if I refuse to pay him he will call the police and I would be arrested for trespassing. At this point, my heart is racing and my hands are shaking. It is the first time I have ever been so scared. In the back of my\n"
     ]
    },
    {
     "name": "stderr",
     "output_type": "stream",
     "text": [
      "Setting `pad_token_id` to `eos_token_id`:50256 for open-end generation.\n"
     ]
    },
    {
     "name": "stdout",
     "output_type": "stream",
     "text": [
      "Two rooms appeared in my house's backyard out of nowhere. I walk closer and discover that the largest one is full of men. They tell me they need more light and demand 320-Volt light bulbs as soon as possible. I start to wonder how they got there and how I can ask them to leave.\n",
      "\n",
      "The next day, I get a call from a man who says he's been trying to get in touch with me for the past two weeks. He says that he wants to talk to me about a job that will pay him $15 an hour and allow him to live in the house he owns with his wife and two children. The job, he says, will help him get back on his feet after he was fired from his job as a security guard at a local mall. \"I've been working at the mall for 10 years,\" he tells me, \"and I've never been able to find a good job.\" He asks me to call him back in a few\n"
     ]
    },
    {
     "name": "stderr",
     "output_type": "stream",
     "text": [
      "Setting `pad_token_id` to `eos_token_id`:50256 for open-end generation.\n"
     ]
    },
    {
     "name": "stdout",
     "output_type": "stream",
     "text": [
      "I see a small yellow bird on the ground. When I grab it with both hands, the bird becomes agitated and dies. As I hold it, its feathers start drying and turning into dust. I turned around and saw another bird, but this one was free. It flew away and disappeared into the forest.\n",
      "\n",
      "The next day, I went back to the spot where I found the dead bird and found that it had turned into a pile of feathers. The bird's body was covered with dust, and the feathers were scattered all over the place. In the middle of the pile, there was a piece of paper with a message written on it. On the paper, it said, \"I'm sorry for what I did to you. Please forgive me.\" I read the message and was surprised to see that the person who wrote it was the same person I had met the day before. She had told me that she had been in a car accident and had lost her memory of what happened.\n"
     ]
    },
    {
     "name": "stderr",
     "output_type": "stream",
     "text": [
      "Setting `pad_token_id` to `eos_token_id`:50256 for open-end generation.\n"
     ]
    },
    {
     "name": "stdout",
     "output_type": "stream",
     "text": [
      "I'm in a car traveling across a rural area in Peru when the driver asks me to get out. He says I can walk to my destination in about an hour. But I don't want to walk because the area looks dangerous. So the driver takes me to an unlicensed taxi stop. I negotiate a price with a new driver and get in his car.\n",
      "\n",
      "The driver tells me I have to pay $1,500 for the trip. When I ask him why, he says he doesn't have any money and that he has a friend who will give me $2,000 if I give him my phone number. The friend is a drug trafficker who has been arrested in the United States and is now in jail awaiting trial for drug trafficking. As I'm about to give up, I get a call from my friend, who says, \"Don't worry, you're not going to lose your phone.\" I tell him I won't, and he hangs up the phone.\n",
      "I am at home cooking with a friend. We are chatting, laughing and having a good time. We served a couple of plates, and set them on the table. When we sat down to eat, our plates disappeared and we had nothing to eat. I looked at my friend. Her mood had changed. She looked very serious. \"I don't know what to do.\" I said.\n",
      "\n",
      "\"What do you mean, what do I do?\" she asked me. Then she looked me straight in the eye and said, \"We need to get out of here.\" We both knew what was going on, but we didn't want to leave. So we decided to go back to the hotel and see if we could find someone who could help us. The next day, we found a woman who was willing to take us in. That night, she gave us a place to stay for the night and told us to call her when we were ready to return to our hotel.\n",
      "\n",
      "\n",
      "\n"
     ]
    }
   ],
   "source": [
    "for i in range(6):\n",
    "    print(generator(dream_prompts[i], max_length=200, top_p=0.85, num_beams=5, early_stopping=True, no_repeat_ngram_size=2)[0]['generated_text'])"
   ]
  },
  {
   "cell_type": "code",
   "execution_count": 14,
   "id": "fd95f522",
   "metadata": {},
   "outputs": [
    {
     "name": "stderr",
     "output_type": "stream",
     "text": [
      "Setting `pad_token_id` to `eos_token_id`:50256 for open-end generation.\n",
      "Setting `pad_token_id` to `eos_token_id`:50256 for open-end generation.\n"
     ]
    },
    {
     "name": "stdout",
     "output_type": "stream",
     "text": [
      "Al and I were in a car on the city outskirts. It was a warm, sunny and clear day. I am not sure which city this was, but it was somewhere tropical. There were plants everywhere, and I could see weeds and grass growing out of sidewalk cracks. Despite being cute and quaint, I felt unsafe in this neighborhood.\n",
      "\n",
      "I was not the only one who felt this way. The streets were filled with people, many of whom seemed to be in their late 20s or early 30s. All of them were dressed in casual clothes, some of which I had never seen before. Some of the men were wearing baseball caps, while others were sporting jeans and T-shirts. They were all wearing sunglasses and carrying cell phones\n"
     ]
    },
    {
     "name": "stderr",
     "output_type": "stream",
     "text": [
      "Setting `pad_token_id` to `eos_token_id`:50256 for open-end generation.\n"
     ]
    },
    {
     "name": "stdout",
     "output_type": "stream",
     "text": [
      "Someone knocks on the door of the motel room I am staying in. A pleasant man introduces himself as the person staying next door. There is no hot water in my room, he says. I suggest asking the front desk for help. The man says that I am responsible since I rented him the room. By now, the man has changed his tone. He sounds menacing and aggressive.\n",
      "\n",
      "\"If you don't leave, I will call the police,\" he tells me. \"I have a gun. You better get out of here before I do.\" I ask him if he has a permit to carry a concealed weapon, and he replies, \"No, but I have the right to protect myself and my family from you.\" He threatens to\n"
     ]
    },
    {
     "name": "stderr",
     "output_type": "stream",
     "text": [
      "Setting `pad_token_id` to `eos_token_id`:50256 for open-end generation.\n"
     ]
    },
    {
     "name": "stdout",
     "output_type": "stream",
     "text": [
      "Two rooms appeared in my house's backyard out of nowhere. I walk closer and discover that the largest one is full of men. They tell me they need more light and demand 320-Volt light bulbs as soon as possible. I start to wonder how they got there and how I can ask them to leave.\n",
      "\n",
      "I walk back to my room and turn on the light. The room is completely dark except for a single light bulb, which glows a bright orange color. It's the only light in the room, and it's so bright that it makes me dizzy. As I turn the bulb on, I hear a man's voice say, \"What are you doing here? You're not supposed to be here.\" I look\n"
     ]
    },
    {
     "name": "stderr",
     "output_type": "stream",
     "text": [
      "Setting `pad_token_id` to `eos_token_id`:50256 for open-end generation.\n"
     ]
    },
    {
     "name": "stdout",
     "output_type": "stream",
     "text": [
      "I see a small yellow bird on the ground. When I grab it with both hands, the bird becomes agitated and dies. As I hold it, its feathers start drying and turning into dust. I turned around and saw another bird, but this one was free.\n",
      "\n",
      "I don't know what happened to the other bird. Maybe it ran away, or maybe it was killed by a predator. Either way, I can't help but feel sorry for it.\n"
     ]
    },
    {
     "name": "stderr",
     "output_type": "stream",
     "text": [
      "Setting `pad_token_id` to `eos_token_id`:50256 for open-end generation.\n"
     ]
    },
    {
     "name": "stdout",
     "output_type": "stream",
     "text": [
      "I'm in a car traveling across a rural area in Peru when the driver asks me to get out. He says I can walk to my destination in about an hour. But I don't want to walk because the area looks dangerous. So the driver takes me to an unlicensed taxi stop. I negotiate a price with a new driver and get in his car.\n",
      "\n",
      "A few hours later, I arrive at the destination. It's a small town on the edge of the Peruvian Amazon. There are only a few houses in the center of town, and the streets are narrow and winding. As I walk along the main street, a man comes up to me and asks if I'd like to join him for a drink. When I say\n",
      "I am at home cooking with a friend. We are chatting, laughing and having a good time. We served a couple of plates, and set them on the table. When we sat down to eat, our plates disappeared and we had nothing to eat. I looked at my friend. Her mood had changed. She looked very serious. \"What is going on?\" I asked.\n",
      "\n",
      "\"I can't eat anymore,\" she said, \"I feel like I am going to die.\" She was crying and shaking. It was the first time I had seen her cry in a long time and it made me very sad. At that moment, I realized that I was not the only one who had been affected by this phenomenon. Many of my friends\n"
     ]
    }
   ],
   "source": [
    "for i in range(6):\n",
    "    print(generator(dream_prompts[i], max_length=150, top_p=0.85, num_beams=5, early_stopping=True, no_repeat_ngram_size=2)[0]['generated_text'])"
   ]
  },
  {
   "cell_type": "code",
   "execution_count": 15,
   "id": "297f315f",
   "metadata": {},
   "outputs": [
    {
     "name": "stderr",
     "output_type": "stream",
     "text": [
      "Setting `pad_token_id` to `eos_token_id`:50256 for open-end generation.\n",
      "Setting `pad_token_id` to `eos_token_id`:50256 for open-end generation.\n"
     ]
    },
    {
     "name": "stdout",
     "output_type": "stream",
     "text": [
      "Al and I were in a car on the city outskirts. It was a warm, sunny and clear day. I am not sure which city this was, but it was somewhere tropical. There were plants everywhere, and I could see weeds and grass growing out of sidewalk cracks. Despite being cute and quaint, I felt unsafe in this neighborhood.\n",
      "\n",
      "As I got closer to the car, the driver started to talk to me. He asked me if I wanted to go for a ride with him. When I said yes, he said, \"If you don't like it, you can go back home.\" I told him that I didn't want to do that, so he told me to get in the back seat and he would drive me home. As I was getting into the front seat, a man came out from behind the wheel of his car and asked if he could take me back to his house. The driver of the other car said he was going to drop me off at my house\n"
     ]
    },
    {
     "name": "stderr",
     "output_type": "stream",
     "text": [
      "Setting `pad_token_id` to `eos_token_id`:50256 for open-end generation.\n"
     ]
    },
    {
     "name": "stdout",
     "output_type": "stream",
     "text": [
      "Someone knocks on the door of the motel room I am staying in. A pleasant man introduces himself as the person staying next door. There is no hot water in my room, he says. I suggest asking the front desk for help. The man says that I am responsible since I rented him the room. By now, the man has changed his tone. He sounds menacing and aggressive.\n",
      "\n",
      "\"I don't care who you are,\" he tells me. \"I'm going to kill you.\" He goes on to tell me that he has a gun and will kill me if I do not get out of his room by 5 p.m. That's when he will shoot me in the back of my head. This is the first time I have ever been threatened by a stranger, but it is not the last. It is only a matter of time before I will be the victim of a violent crime because I live in a city that has become the murder capital of America. According to the\n"
     ]
    },
    {
     "name": "stderr",
     "output_type": "stream",
     "text": [
      "Setting `pad_token_id` to `eos_token_id`:50256 for open-end generation.\n"
     ]
    },
    {
     "name": "stdout",
     "output_type": "stream",
     "text": [
      "Two rooms appeared in my house's backyard out of nowhere. I walk closer and discover that the largest one is full of men. They tell me they need more light and demand 320-Volt light bulbs as soon as possible. I start to wonder how they got there and how I can ask them to leave.\n",
      "\n",
      "The next morning, I wake up to the sound of a man's voice coming from the next room. He tells me that he wants to talk to me and asks me to come with him. When I enter the room, the man is standing in the middle of the floor with his hands behind his back. His face is covered by a black hoodie and his eyes are hidden behind a pair of sunglasses. The man says he is a police officer and that I am under arrest for trespassing and obstructing a law enforcement officer. If I don't leave, he says, we will arrest you and take you to jail. In the back of my mind I know that\n"
     ]
    },
    {
     "name": "stderr",
     "output_type": "stream",
     "text": [
      "Setting `pad_token_id` to `eos_token_id`:50256 for open-end generation.\n"
     ]
    },
    {
     "name": "stdout",
     "output_type": "stream",
     "text": [
      "I see a small yellow bird on the ground. When I grab it with both hands, the bird becomes agitated and dies. As I hold it, its feathers start drying and turning into dust. I turned around and saw another bird, but this one was free. It flew away in the opposite direction.\n",
      "\n",
      "\"I'm not sure what happened to it,\" I said. \"Maybe it was killed by a predator. Maybe it fell from a tree. Or maybe it just ran away. But it's gone now. And I don't know what to do with it.\"\n"
     ]
    },
    {
     "name": "stderr",
     "output_type": "stream",
     "text": [
      "Setting `pad_token_id` to `eos_token_id`:50256 for open-end generation.\n"
     ]
    },
    {
     "name": "stdout",
     "output_type": "stream",
     "text": [
      "I'm in a car traveling across a rural area in Peru when the driver asks me to get out. He says I can walk to my destination in about an hour. But I don't want to walk because the area looks dangerous. So the driver takes me to an unlicensed taxi stop. I negotiate a price with a new driver and get in his car.\n",
      "\n",
      "When I get to the destination, I realize I'm not supposed to be there. The driver says he doesn't know where I am. When I tell him, he says, \"No, you're in the wrong place. It's not your destination.\" I ask him where he's going, and he tells me he has to go back to his hotel to pick up his wife and kids, but he won't tell me where they are. After a few minutes of trying to figure out what to do, the car pulls away and I find myself back at the hotel, where my taxi driver is waiting for me.\n",
      "I am at home cooking with a friend. We are chatting, laughing and having a good time. We served a couple of plates, and set them on the table. When we sat down to eat, our plates disappeared and we had nothing to eat. I looked at my friend. Her mood had changed. She looked very serious.\n",
      "\n",
      "\"What happened?\" she asked me. \"I don't know what happened, but I am not feeling well. What should I do?\" I told her to go to the bathroom and come back when she felt better. The next thing I knew, I was sitting in the middle of the living room with my head in my hands. My friend was standing in front of me, holding my hand and saying, \"Don't worry about it. It's not a big deal. Just take a few deep breaths and then you will be fine.\" I didn't understand what she was talking about, so I took a deep breath and tried to calm down.\n"
     ]
    }
   ],
   "source": [
    "for i in range(6):\n",
    "    print(generator(dream_prompts[i], max_length=200, top_p=0.85, num_beams=5, early_stopping=True, no_repeat_ngram_size=2)[0]['generated_text'])"
   ]
  },
  {
   "cell_type": "code",
   "execution_count": 16,
   "id": "5c3e4a78",
   "metadata": {},
   "outputs": [
    {
     "name": "stderr",
     "output_type": "stream",
     "text": [
      "Setting `pad_token_id` to `eos_token_id`:50256 for open-end generation.\n",
      "Setting `pad_token_id` to `eos_token_id`:50256 for open-end generation.\n"
     ]
    },
    {
     "name": "stdout",
     "output_type": "stream",
     "text": [
      "Al and I were in a car on the city outskirts. It was a warm, sunny and clear day. I am not sure which city this was, but it was somewhere tropical. There were plants everywhere, and I could see weeds and grass growing out of sidewalk cracks. Despite being cute and quaint, I felt unsafe in this neighborhood.\n",
      "\n",
      "When we got to our destination, we were greeted by a young man. He asked us if we wanted to take a picture with him. We said yes and he took a few pictures with us. Then he asked me if I would like to buy him a drink. When I said no, he said, \"I don't want to pay for your drink.\" I told him that I didn't\n"
     ]
    },
    {
     "name": "stderr",
     "output_type": "stream",
     "text": [
      "Setting `pad_token_id` to `eos_token_id`:50256 for open-end generation.\n"
     ]
    },
    {
     "name": "stdout",
     "output_type": "stream",
     "text": [
      "Someone knocks on the door of the motel room I am staying in. A pleasant man introduces himself as the person staying next door. There is no hot water in my room, he says. I suggest asking the front desk for help. The man says that I am responsible since I rented him the room. By now, the man has changed his tone. He sounds menacing and aggressive.\n",
      "\n",
      "\"If you don't leave, I'll call the police,\" he tells me. \"I'm not going to take no for an answer.\" I ask him if he has a gun, and he replies, \"No, but I have a knife.\" He goes on to threaten to kill me if I do not leave the hotel room immediately. When I\n"
     ]
    },
    {
     "name": "stderr",
     "output_type": "stream",
     "text": [
      "Setting `pad_token_id` to `eos_token_id`:50256 for open-end generation.\n"
     ]
    },
    {
     "name": "stdout",
     "output_type": "stream",
     "text": [
      "Two rooms appeared in my house's backyard out of nowhere. I walk closer and discover that the largest one is full of men. They tell me they need more light and demand 320-Volt light bulbs as soon as possible. I start to wonder how they got there and how I can ask them to leave.\n",
      "\n",
      "The next day, I get a call from a man who tells me he's been living in the house for three years. He says he wants to get out, but he doesn't have the money to do it. We talk for a while, and he asks me if I want to move in with him. When I tell him I don't, he says, \"Well, then, you're going to have to\n"
     ]
    },
    {
     "name": "stderr",
     "output_type": "stream",
     "text": [
      "Setting `pad_token_id` to `eos_token_id`:50256 for open-end generation.\n"
     ]
    },
    {
     "name": "stdout",
     "output_type": "stream",
     "text": [
      "I see a small yellow bird on the ground. When I grab it with both hands, the bird becomes agitated and dies. As I hold it, its feathers start drying and turning into dust. I turned around and saw another bird, but this one was free.\n",
      "\n",
      "\"What are you doing here?\" I asked. \"I thought you were going to kill the birds. Why did you come here? What's going on?\" The bird looked at me and then flew away.\n"
     ]
    },
    {
     "name": "stderr",
     "output_type": "stream",
     "text": [
      "Setting `pad_token_id` to `eos_token_id`:50256 for open-end generation.\n"
     ]
    },
    {
     "name": "stdout",
     "output_type": "stream",
     "text": [
      "I'm in a car traveling across a rural area in Peru when the driver asks me to get out. He says I can walk to my destination in about an hour. But I don't want to walk because the area looks dangerous. So the driver takes me to an unlicensed taxi stop. I negotiate a price with a new driver and get in his car.\n",
      "\n",
      "When I get to the destination, I realize that I'm not going to make it in time. The driver tells me that he will take me back to his house, but I have to wait for him. When I finally get there, he says he doesn't have time to drive me home because he's going on a business trip and won't be able to come back\n",
      "I am at home cooking with a friend. We are chatting, laughing and having a good time. We served a couple of plates, and set them on the table. When we sat down to eat, our plates disappeared and we had nothing to eat. I looked at my friend. Her mood had changed. She looked very serious.\n",
      "\n",
      "\"What's wrong?\" I asked. My friend replied, \"I don't know, I just feel like I am missing something.\" She said she felt like she was \"missing something\" and that she didn't want to talk about it anymore. At that moment I knew that something was wrong, but I couldn't put my finger on it. It was as if I was looking in the wrong place\n"
     ]
    }
   ],
   "source": [
    "for i in range(6):\n",
    "    print(generator(dream_prompts[i], max_length=150, top_p=0.85, num_beams=5, early_stopping=True, no_repeat_ngram_size=2)[0]['generated_text'])"
   ]
  },
  {
   "cell_type": "code",
   "execution_count": 17,
   "id": "fa7b7c03",
   "metadata": {},
   "outputs": [
    {
     "name": "stderr",
     "output_type": "stream",
     "text": [
      "Setting `pad_token_id` to `eos_token_id`:50256 for open-end generation.\n",
      "Setting `pad_token_id` to `eos_token_id`:50256 for open-end generation.\n"
     ]
    },
    {
     "name": "stdout",
     "output_type": "stream",
     "text": [
      "Al and I were in a car on the city outskirts. It was a warm, sunny and clear day. I am not sure which city this was, but it was somewhere tropical. There were plants everywhere, and I could see weeds and grass growing out of sidewalk cracks. Despite being cute and quaint, I felt unsafe in this neighborhood.\n",
      "\n",
      "I was in the car with a friend when we heard a loud noise behind us. We turned around and saw a man standing in front of our car. He was wearing a hooded sweatshirt and had a baseball cap on his head. His face was covered by a black hoodie and he had his arms crossed over his chest. The man was yelling at us, \"What are you doing here\n"
     ]
    },
    {
     "name": "stderr",
     "output_type": "stream",
     "text": [
      "Setting `pad_token_id` to `eos_token_id`:50256 for open-end generation.\n"
     ]
    },
    {
     "name": "stdout",
     "output_type": "stream",
     "text": [
      "Someone knocks on the door of the motel room I am staying in. A pleasant man introduces himself as the person staying next door. There is no hot water in my room, he says. I suggest asking the front desk for help. The man says that I am responsible since I rented him the room. By now, the man has changed his tone. He sounds menacing and aggressive.\n",
      "\n",
      "\"I don't want to hurt you,\" he tells me. \"I just want you to leave me alone. You're trespassing on my property, and I'm not going to let you stay here any longer. If you leave, I'll call the police and you'll be arrested.\" I ask him if he has a warrant for my arrest.\n"
     ]
    },
    {
     "name": "stderr",
     "output_type": "stream",
     "text": [
      "Setting `pad_token_id` to `eos_token_id`:50256 for open-end generation.\n"
     ]
    },
    {
     "name": "stdout",
     "output_type": "stream",
     "text": [
      "Two rooms appeared in my house's backyard out of nowhere. I walk closer and discover that the largest one is full of men. They tell me they need more light and demand 320-Volt light bulbs as soon as possible. I start to wonder how they got there and how I can ask them to leave.\n",
      "\n",
      "The next morning, I get up early and go to the police station to file a complaint. The police officer tells me that they have received a call from a man who claims to have been attacked by a group of people in his backyard. He says that he saw two men with their faces covered with bandanas, and that one of them was holding a gun to his head. According to him, the other man had a\n"
     ]
    },
    {
     "name": "stderr",
     "output_type": "stream",
     "text": [
      "Setting `pad_token_id` to `eos_token_id`:50256 for open-end generation.\n"
     ]
    },
    {
     "name": "stdout",
     "output_type": "stream",
     "text": [
      "I see a small yellow bird on the ground. When I grab it with both hands, the bird becomes agitated and dies. As I hold it, its feathers start drying and turning into dust. I turned around and saw another bird, but this one was free.\n",
      "\n",
      "\"I'm not sure what to do with it,\" I said to myself. \"I don't know how to get rid of it. Is there any way I can get it to fly away?\" I looked at the dead bird and noticed that the feathers on its back had turned black. It looked like it had died of a heart attack, and I wondered if it was really dead. But then I realized that I had no choice but to let it go. The bird\n"
     ]
    },
    {
     "name": "stderr",
     "output_type": "stream",
     "text": [
      "Setting `pad_token_id` to `eos_token_id`:50256 for open-end generation.\n"
     ]
    },
    {
     "name": "stdout",
     "output_type": "stream",
     "text": [
      "I'm in a car traveling across a rural area in Peru when the driver asks me to get out. He says I can walk to my destination in about an hour. But I don't want to walk because the area looks dangerous. So the driver takes me to an unlicensed taxi stop. I negotiate a price with a new driver and get in his car.\n",
      "\n",
      "The next day, I arrive at the destination, only to find that the taxi driver has already left. When I ask him why, he tells me that he doesn't know where I am and that I have to go to the police station to file a complaint. After a few minutes of waiting in the waiting room, a police officer shows up and says, \"You're\n",
      "I am at home cooking with a friend. We are chatting, laughing and having a good time. We served a couple of plates, and set them on the table. When we sat down to eat, our plates disappeared and we had nothing to eat. I looked at my friend. Her mood had changed. She looked very serious.\n",
      "\n",
      "\"What is wrong?\" I asked. \"Why are you looking so serious?\" She said, \"I don't know, I just feel like I am missing something.\" I was confused. What was she missing? Was she feeling sad? Did she want to talk to me? I tried to calm her down, but she didn't seem to be listening. So I decided to ask her what was wrong\n"
     ]
    }
   ],
   "source": [
    "for i in range(6):\n",
    "    print(generator(dream_prompts[i], max_length=150, top_p=0.85, num_beams=5, early_stopping=True, no_repeat_ngram_size=2)[0]['generated_text'])"
   ]
  },
  {
   "cell_type": "code",
   "execution_count": 18,
   "id": "fbb02533",
   "metadata": {
    "scrolled": true
   },
   "outputs": [
    {
     "name": "stderr",
     "output_type": "stream",
     "text": [
      "Setting `pad_token_id` to `eos_token_id`:50256 for open-end generation.\n",
      "Setting `pad_token_id` to `eos_token_id`:50256 for open-end generation.\n"
     ]
    },
    {
     "name": "stdout",
     "output_type": "stream",
     "text": [
      "Al and I were in a car on the city outskirts. It was a warm, sunny and clear day. I am not sure which city this was, but it was somewhere tropical. There were plants everywhere, and I could see weeds and grass growing out of sidewalk cracks. Despite being cute and quaint, I felt unsafe in this neighborhood.\n",
      "\n",
      "I decided to go back to my hotel and get some fresh air. However, when I got to the hotel, there was no one there. When I asked the receptionist about it, she told me that she did not know what was going on. She also said that I should call the police and they would come and take care of the situation. This was not the case. The police were\n"
     ]
    },
    {
     "name": "stderr",
     "output_type": "stream",
     "text": [
      "Setting `pad_token_id` to `eos_token_id`:50256 for open-end generation.\n"
     ]
    },
    {
     "name": "stdout",
     "output_type": "stream",
     "text": [
      "Someone knocks on the door of the motel room I am staying in. A pleasant man introduces himself as the person staying next door. There is no hot water in my room, he says. I suggest asking the front desk for help. The man says that I am responsible since I rented him the room. By now, the man has changed his tone. He sounds menacing and aggressive.\n",
      "\n",
      "\"If you don't pay me, I'm going to call the police,\" he tells me. \"I'm not afraid of you, but I will make sure that you pay for the damage you did to my property.\" He asks me if I want to go to jail, and I tell him that it is not my place to make that decision.\n"
     ]
    },
    {
     "name": "stderr",
     "output_type": "stream",
     "text": [
      "Setting `pad_token_id` to `eos_token_id`:50256 for open-end generation.\n"
     ]
    },
    {
     "name": "stdout",
     "output_type": "stream",
     "text": [
      "Two rooms appeared in my house's backyard out of nowhere. I walk closer and discover that the largest one is full of men. They tell me they need more light and demand 320-Volt light bulbs as soon as possible. I start to wonder how they got there and how I can ask them to leave.\n",
      "\n",
      "The next day, I get a call from a woman who lives in the house next door. She tells me that she and her husband are the only ones who are allowed to use the bathroom in their house, and that they don't want anyone else using it. Her husband is the one who told me about the men, but she doesn't know who they are or where they came from. When I tell her that I\n"
     ]
    },
    {
     "name": "stderr",
     "output_type": "stream",
     "text": [
      "Setting `pad_token_id` to `eos_token_id`:50256 for open-end generation.\n"
     ]
    },
    {
     "name": "stdout",
     "output_type": "stream",
     "text": [
      "I see a small yellow bird on the ground. When I grab it with both hands, the bird becomes agitated and dies. As I hold it, its feathers start drying and turning into dust. I turned around and saw another bird, but this one was free.\n",
      "\n",
      "\"What are you doing here?\" I asked. The bird didn't respond, so I grabbed it and threw it into the air. It landed in the middle of the road, where a car was passing by. There was a loud noise and the car stopped. A man got out of his car and asked me what I was doing. \"I'm looking for a bird,\" I told him. He said, \"Don't worry, I'll take care of it.\"\n"
     ]
    },
    {
     "name": "stderr",
     "output_type": "stream",
     "text": [
      "Setting `pad_token_id` to `eos_token_id`:50256 for open-end generation.\n"
     ]
    },
    {
     "name": "stdout",
     "output_type": "stream",
     "text": [
      "I'm in a car traveling across a rural area in Peru when the driver asks me to get out. He says I can walk to my destination in about an hour. But I don't want to walk because the area looks dangerous. So the driver takes me to an unlicensed taxi stop. I negotiate a price with a new driver and get in his car.\n",
      "\n",
      "When I get to the destination, the taxi driver says, \"You're going to have to pay a lot of money for this ride.\" I tell him that I'm not paying for the ride, but I will pay for a taxi to take me back home. The driver tells me that he doesn't have any money, so he won't be able to give me a\n",
      "I am at home cooking with a friend. We are chatting, laughing and having a good time. We served a couple of plates, and set them on the table. When we sat down to eat, our plates disappeared and we had nothing to eat. I looked at my friend. Her mood had changed. She looked very serious.\n",
      "\n",
      "\"What is wrong?\" I asked her. \"What happened?\" She shook her head and said, \"I don't know what happened, but I know I am not going to be able to go back to work tomorrow.\" She said that she didn't want to lose her job, so she had to stay home and take care of her daughter. That was the last time I saw her that day.\n"
     ]
    }
   ],
   "source": [
    "for i in range(6):\n",
    "    print(generator(dream_prompts[i], max_length=150, top_p=0.85, num_beams=5, early_stopping=True, no_repeat_ngram_size=2)[0]['generated_text'])"
   ]
  },
  {
   "cell_type": "code",
   "execution_count": null,
   "id": "da61ffb2",
   "metadata": {},
   "outputs": [],
   "source": []
  }
 ],
 "metadata": {
  "kernelspec": {
   "display_name": "Python 3 (ipykernel)",
   "language": "python",
   "name": "python3"
  },
  "language_info": {
   "codemirror_mode": {
    "name": "ipython",
    "version": 3
   },
   "file_extension": ".py",
   "mimetype": "text/x-python",
   "name": "python",
   "nbconvert_exporter": "python",
   "pygments_lexer": "ipython3",
   "version": "3.9.7"
  }
 },
 "nbformat": 4,
 "nbformat_minor": 5
}
